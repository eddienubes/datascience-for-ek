{
 "cells": [
  {
   "cell_type": "code",
   "id": "initial_id",
   "metadata": {
    "collapsed": true,
    "ExecuteTime": {
     "end_time": "2024-06-01T18:48:45.124937Z",
     "start_time": "2024-06-01T18:48:45.121874Z"
    }
   },
   "source": [
    "from datetime import datetime\n",
    "import pandas as pd\n",
    "import os\n",
    "import dateutil.parser as date_parser\n",
    "import matplotlib.pyplot as plt\n",
    "from typing import Any\n",
    "import seaborn as sns\n",
    "import numpy as np\n",
    "from dateutil.relativedelta import relativedelta\n",
    "from statsmodels.tsa.stattools import adfuller\n",
    "from statsmodels.tsa.seasonal import seasonal_decompose\n",
    "from statsmodels.tsa.arima.model import ARIMA\n",
    "from statsforecast import StatsForecast\n",
    "from statsforecast.models import AutoARIMA, ARIMA\n",
    "from statsforecast.arima import arima_string\n",
    "import itertools\n",
    "from pyod.models.knn import KNN\n",
    "from sklearn.preprocessing import StandardScaler\n",
    "from scipy.stats import skew, kurtosis\n",
    "from sklearn.preprocessing import PolynomialFeatures\n",
    "from sklearn.linear_model import LinearRegression\n",
    "from sklearn.metrics import mean_squared_error\n",
    "from scipy.stats import zscore\n",
    "\n",
    "plt.style.use('ggplot')"
   ],
   "execution_count": 867,
   "outputs": []
  },
  {
   "metadata": {},
   "cell_type": "markdown",
   "source": [
    "## Load timeseries ticker data\n",
    "### There are 3 tickers analysis is based on:\n",
    "- S&P 500\n",
    "- VIX - Volatility index\n",
    "- US Treasury bonds\n",
    "- DJIA - Dow Jones Industrial Average\n",
    "\n",
    "The analysis period is from 2000 to 2024"
   ],
   "id": "3cc09a0ed730b3a0"
  },
  {
   "metadata": {
    "ExecuteTime": {
     "end_time": "2024-06-01T18:49:45.309851Z",
     "start_time": "2024-06-01T18:49:43.771229Z"
    }
   },
   "cell_type": "code",
   "source": [
    "start_date = None\n",
    "end_date = None\n",
    "\n",
    "snp_data = pd.read_csv('assets/snp_data_clean.csv', index_col=0, parse_dates=True).add_prefix('snp_')[\n",
    "           start_date:end_date]\n",
    "bonds_data = pd.read_csv('assets/bonds_data_clean.csv', index_col=0, parse_dates=True).add_prefix('bonds_')[\n",
    "             start_date:end_date]\n",
    "djia_data = pd.read_csv('assets/djia_data_clean.csv', index_col=0, parse_dates=True).add_prefix('djia_')[\n",
    "            start_date:end_date]\n",
    "vix_data = pd.read_csv('assets/vix_data_clean.csv', index_col=0, parse_dates=True).add_prefix('vix_')[\n",
    "           start_date:end_date]\n",
    "\n",
    "merged_data = pd.concat(\n",
    "    [snp_data['snp_close'], bonds_data['bonds_close'], djia_data['djia_close'], vix_data['vix_close']], axis=1)\n",
    "\n",
    "merged_data.plot(subplots=True, figsize=(10, 8))\n",
    "plt.tight_layout()\n",
    "plt.show()"
   ],
   "id": "954e75d3258d69a9",
   "execution_count": 879,
   "outputs": []
  },
  {
   "metadata": {},
   "cell_type": "markdown",
   "source": "### Scale data",
   "id": "6bd230b2b45188e0"
  },
  {
   "metadata": {
    "ExecuteTime": {
     "end_time": "2024-06-01T18:50:02.086880Z",
     "start_time": "2024-06-01T18:50:02.078780Z"
    }
   },
   "cell_type": "code",
   "source": [
    "anom_start_date = start_date\n",
    "anom_end_date = '2022-01-01'\n",
    "\n",
    "anomaly_data = merged_data[anom_start_date:anom_end_date]\n",
    "\n",
    "scaler = StandardScaler()\n",
    "scaled_data = scaler.fit_transform(anomaly_data)\n",
    "scaled_data = pd.DataFrame(scaled_data, columns=anomaly_data.columns, index=anomaly_data.index)\n",
    "\n",
    "scaled_data.head()"
   ],
   "id": "90f960ce48b5d6e5",
   "execution_count": 880,
   "outputs": []
  },
  {
   "metadata": {},
   "cell_type": "markdown",
   "source": "### Anomaly detection and removal with KNN",
   "id": "f0980633e1e977b2"
  },
  {
   "metadata": {
    "ExecuteTime": {
     "end_time": "2024-06-01T19:05:10.528704Z",
     "start_time": "2024-06-01T19:05:10.311029Z"
    }
   },
   "cell_type": "code",
   "source": [
    "clf = KNN(contamination=0.1)\n",
    "\n",
    "clf.fit(scaled_data)\n",
    "\n",
    "y_pred = clf.labels_  # 0 for inliers, 1 for outliers\n",
    "outlier_scores = clf.decision_scores_\n",
    "\n",
    "scaled_data['anomaly'] = y_pred\n",
    "\n",
    "scaled_data.head()\n",
    "\n",
    "plt.figure(figsize=(14, 7))\n",
    "plt.plot(scaled_data.index, scaled_data['snp_close'], label='S&P500')\n",
    "plt.scatter(scaled_data.index, scaled_data['snp_close'], c=y_pred, cmap='winter', label='Anomaly')\n",
    "plt.legend()\n",
    "plt.show()"
   ],
   "id": "8373eccabb86e378",
   "execution_count": 982,
   "outputs": []
  },
  {
   "metadata": {
    "ExecuteTime": {
     "end_time": "2024-06-01T19:05:12.324877Z",
     "start_time": "2024-06-01T19:05:12.170522Z"
    }
   },
   "cell_type": "code",
   "source": [
    "merged_data_comparison = merged_data[anom_start_date:anom_end_date]\n",
    "\n",
    "cleaned_data = scaled_data[scaled_data['anomaly'] == 0].drop(columns=['anomaly'])\n",
    "\n",
    "# important, scale the cleaned data back, so it can be compared to original data\n",
    "clean_scaled_data = scaler.inverse_transform(cleaned_data)\n",
    "\n",
    "clean_scaled_data = pd.DataFrame(clean_scaled_data, columns=cleaned_data.columns, index=cleaned_data.index)\n",
    "\n",
    "plt.figure(figsize=(14, 7))\n",
    "plt.plot(merged_data_comparison.index,\n",
    "         merged_data_comparison['snp_close'], label='S&P w/ Anomaly', color='black')\n",
    "plt.plot(clean_scaled_data.index, clean_scaled_data['snp_close'], label='S&P500 w/o Anomaly', linewidth=2)\n",
    "plt.legend()\n",
    "plt.show()"
   ],
   "id": "661bc27cdfba0069",
   "execution_count": 983,
   "outputs": []
  },
  {
   "metadata": {},
   "cell_type": "markdown",
   "source": [
    "### Statistical analysis of KNN anomaly detection\n",
    "#### 1. Table comparison"
   ],
   "id": "59487de74985dbd3"
  },
  {
   "metadata": {
    "ExecuteTime": {
     "end_time": "2024-06-01T19:05:14.104347Z",
     "start_time": "2024-06-01T19:05:14.095758Z"
    }
   },
   "cell_type": "code",
   "source": [
    "def calculate_statistics(data, column):\n",
    "    mean = data[column].mean()\n",
    "    std_dev = data[column].std()\n",
    "    skewness = skew(data[column])\n",
    "    kurt = kurtosis(data[column])\n",
    "    return mean, std_dev, skewness, kurt\n",
    "\n",
    "\n",
    "original_stats = calculate_statistics(merged_data_comparison, 'snp_close')\n",
    "cleaned_stats = calculate_statistics(clean_scaled_data, 'snp_close')\n",
    "\n",
    "stats_comparison = pd.DataFrame({\n",
    "    'Metric': ['Mean', 'Standard Deviation', 'Skewness', 'Kurtosis'],\n",
    "    'Original': original_stats,\n",
    "    'Cleaned': cleaned_stats\n",
    "})\n",
    "\n",
    "stats_comparison"
   ],
   "id": "b9758b38aa6cb10e",
   "execution_count": 984,
   "outputs": []
  },
  {
   "metadata": {},
   "cell_type": "markdown",
   "source": [
    "### Statistical analysis of KNN anomaly detection\n",
    "#### 2. Graphical comparison\n",
    "##### Distribution + KDE (Kernel Density Estimation)"
   ],
   "id": "d7e7fe7f2c8dabae"
  },
  {
   "metadata": {
    "ExecuteTime": {
     "end_time": "2024-06-01T19:05:16.692909Z",
     "start_time": "2024-06-01T19:05:16.198606Z"
    }
   },
   "cell_type": "code",
   "source": [
    "plt.figure(figsize=(12, 6))\n",
    "\n",
    "original_returns = merged_data_comparison['snp_close'].pct_change().dropna()\n",
    "cleaned_returns = clean_scaled_data['snp_close'].pct_change().dropna()\n",
    "\n",
    "sns.histplot(original_returns, color='blue', label='Original Data', kde=True)\n",
    "sns.histplot(cleaned_returns, color='green', label='Cleaned Data', kde=True)\n",
    "plt.title('Distribution of S&P 500 Returns')\n",
    "plt.xlabel('Returns')\n",
    "plt.ylabel('Frequency')\n",
    "plt.legend()\n",
    "plt.show()"
   ],
   "id": "d9d407ad707cc035",
   "execution_count": 985,
   "outputs": []
  },
  {
   "metadata": {},
   "cell_type": "markdown",
   "source": "### Polynomial Regression and Forecasting",
   "id": "8ce0f95d090e02fa"
  },
  {
   "metadata": {},
   "cell_type": "markdown",
   "source": "##### Kalman Recurrent Smoothing of the training set",
   "id": "42c855905bf4ecbd"
  },
  {
   "metadata": {
    "ExecuteTime": {
     "end_time": "2024-06-01T19:12:37.134815Z",
     "start_time": "2024-06-01T19:12:37.128061Z"
    }
   },
   "cell_type": "code",
   "source": [
    "def alpha_beta_filter(df, alpha=0.85, beta=0.005):\n",
    "    x_est = df.iloc[0]['snp_close']  # initial position estimate\n",
    "    v_est = 0  # initial velocity estimate\n",
    "    estimates = []\n",
    "\n",
    "    for price in df['snp_close']:\n",
    "        x_pred = x_est + v_est\n",
    "        residual = price - x_pred\n",
    "        x_est = x_pred + alpha * residual\n",
    "        v_est = v_est + beta * residual\n",
    "        estimates.append(x_est)\n",
    "\n",
    "    df['AlphaBeta'] = estimates\n",
    "    return df\n",
    "\n",
    "def alpha_beta_gamma_filter(df, alpha=0.2, beta=0.001, gamma=0.0001):\n",
    "    x_est = df.iloc[0]['snp_close']  # initial position estimate\n",
    "    v_est = 0  # initial velocity estimate\n",
    "    a_est = 0  # initial acceleration estimate\n",
    "    estimates = []\n",
    "\n",
    "    for price in df['snp_close']:\n",
    "        x_pred = x_est + v_est + 0.5 * a_est\n",
    "        residual = price - x_pred\n",
    "        x_est = x_pred + alpha * residual\n",
    "        v_est = v_est + beta * residual\n",
    "        a_est = a_est + gamma * residual\n",
    "        estimates.append(x_est)\n",
    "\n",
    "    df['AlphaBetaGamma'] = estimates\n",
    "    return df\n",
    "\n",
    "# df = alpha_beta_filter(cleaned_data)\n",
    "df = alpha_beta_gamma_filter(cleaned_data)\n",
    "# y = cleaned_data['snp_close']\n",
    "y = pd.DataFrame(df['AlphaBetaGamma'], index=cleaned_data.index)\n",
    "X = cleaned_data[['bonds_close', 'djia_close', 'vix_close']]"
   ],
   "id": "ac16b865e9e3fbf6",
   "execution_count": 998,
   "outputs": []
  },
  {
   "metadata": {
    "ExecuteTime": {
     "end_time": "2024-06-01T19:05:21.068826Z",
     "start_time": "2024-06-01T19:05:20.891139Z"
    }
   },
   "cell_type": "code",
   "source": [
    "plt.figure(figsize=(14, 7))\n",
    "plt.plot(df.index, df['snp_close'], label='S&P500')\n",
    "plt.plot(df.index, df['AlphaBetaGamma'], label='AlphaBetaGamma')\n",
    "plt.legend()"
   ],
   "id": "1b1ecfbb0963b764",
   "execution_count": 987,
   "outputs": []
  },
  {
   "metadata": {
    "ExecuteTime": {
     "end_time": "2024-06-01T19:05:23.189171Z",
     "start_time": "2024-06-01T19:05:23.182714Z"
    }
   },
   "cell_type": "code",
   "source": [
    "# Create polynomial features (combinations)\n",
    "degree = 3\n",
    "poly = PolynomialFeatures(degree)\n",
    "X_poly = poly.fit_transform(X)\n",
    "\n",
    "model = LinearRegression()\n",
    "model = model.fit(X_poly, y)"
   ],
   "id": "dd235231be33f89d",
   "execution_count": 988,
   "outputs": []
  },
  {
   "metadata": {},
   "cell_type": "markdown",
   "source": "### Forecasting",
   "id": "4dd613eaad8e5e2e"
  },
  {
   "metadata": {
    "ExecuteTime": {
     "end_time": "2024-06-01T19:05:24.418897Z",
     "start_time": "2024-06-01T19:05:24.411040Z"
    }
   },
   "cell_type": "code",
   "source": [
    "forecast_start_date = anom_end_date\n",
    "forecast_end_date = '2022-06-01'\n",
    "\n",
    "scaled_forecast_og_data = scaler.transform(merged_data)\n",
    "scaled_forecast_og_data = pd.DataFrame(scaled_forecast_og_data, columns=merged_data.columns, index=merged_data.index)\n",
    "\n",
    "future_X = scaled_forecast_og_data[forecast_start_date:forecast_end_date][['bonds_close', 'djia_close', 'vix_close']]\n",
    "\n",
    "future_X_poly = poly.transform(future_X)\n",
    "\n",
    "y_pred = model.predict(future_X_poly)\n",
    "\n",
    "mse = mean_squared_error(scaled_forecast_og_data[forecast_start_date:forecast_end_date]['snp_close'], y_pred)\n",
    "rmse = np.sqrt(mean_squared_error(scaled_forecast_og_data[forecast_start_date:forecast_end_date]['snp_close'], y_pred))\n",
    "print('Mean Squared Error:', mse)\n",
    "print('Root Mean Squared Error:', rmse)"
   ],
   "id": "fd01372a814d8a94",
   "execution_count": 989,
   "outputs": []
  },
  {
   "metadata": {
    "ExecuteTime": {
     "end_time": "2024-06-01T19:12:42.002053Z",
     "start_time": "2024-06-01T19:12:41.841103Z"
    }
   },
   "cell_type": "code",
   "source": [
    "og_backfill_start = '2021-09-01'\n",
    "og_backfill_data = scaled_forecast_og_data[og_backfill_start:forecast_start_date]['snp_close']\n",
    "og_comparison_data = scaled_forecast_og_data[forecast_start_date:forecast_end_date]['snp_close']\n",
    "\n",
    "og_backfill_data = pd.concat([og_backfill_data, og_comparison_data[:1]])\n",
    "\n",
    "plt.figure(figsize=(14, 7))\n",
    "plt.plot(og_backfill_data.index, og_backfill_data, label='Previous S&P500')\n",
    "plt.plot(og_comparison_data.index, og_comparison_data, label='Actual S&P500', linestyle='--')\n",
    "plt.plot(future_X.index, y_pred, label='Predicted S&P500', color='red')\n",
    "plt.legend()\n",
    "plt.show()"
   ],
   "id": "e5e7a411dc4c83ed",
   "execution_count": 999,
   "outputs": []
  },
  {
   "metadata": {},
   "cell_type": "markdown",
   "source": "### Custom anomaly detection algorithm",
   "id": "b7b200fdb46d46b7"
  },
  {
   "metadata": {
    "ExecuteTime": {
     "end_time": "2024-06-01T19:31:20.527832Z",
     "start_time": "2024-06-01T19:31:20.349436Z"
    }
   },
   "cell_type": "code",
   "source": [
    "clean_smooth_data = merged_data['snp_close']['2019-01-01':'2021-06-01']\n",
    "\n",
    "rolling_window = 35\n",
    "rolling_mean = clean_smooth_data.rolling(window=rolling_window).mean()\n",
    "rolling_std = clean_smooth_data.rolling(window=rolling_window).std()\n",
    "\n",
    "z_scores = (clean_smooth_data - rolling_mean) / rolling_std\n",
    "z_scores = z_scores.abs()\n",
    "\n",
    "threshold = 2\n",
    "anomalies = np.where(z_scores > threshold)[0]\n",
    "\n",
    "plt.figure(figsize=(14, 7))\n",
    "plt.plot(clean_smooth_data.index, clean_smooth_data, label='S&P 500', color='blue')\n",
    "plt.scatter(clean_smooth_data.index[anomalies], clean_smooth_data.iloc[anomalies], color='red', label='Anomalies')\n",
    "plt.legend()\n",
    "plt.show()\n",
    "\n",
    "cleaned_data_no_anomalies = clean_smooth_data.drop(clean_smooth_data.index[anomalies])\n",
    "\n",
    "print(f\"Number of anomalies detected: {len(anomalies)}\")"
   ],
   "id": "61224de8ad2167e3",
   "execution_count": 1072,
   "outputs": []
  },
  {
   "metadata": {},
   "cell_type": "markdown",
   "source": "",
   "id": "86e944d6d397ecfe"
  },
  {
   "metadata": {
    "ExecuteTime": {
     "end_time": "2024-06-01T19:34:10.351046Z",
     "start_time": "2024-06-01T19:34:10.177526Z"
    }
   },
   "cell_type": "code",
   "source": [
    "# Plot data without anomalies against original data\n",
    "plt.figure(figsize=(14, 7))\n",
    "plt.plot(clean_smooth_data.index, clean_smooth_data, label='S&P 500', color='red')\n",
    "plt.plot(cleaned_data_no_anomalies.index, cleaned_data_no_anomalies, label='S&P 500 w/o Anomalies', color='green')\n",
    "plt.legend()\n",
    "plt.show()"
   ],
   "id": "728bbe5050494b81",
   "execution_count": 1074,
   "outputs": []
  }
 ],
 "metadata": {
  "kernelspec": {
   "display_name": "Python 3",
   "language": "python",
   "name": "python3"
  },
  "language_info": {
   "codemirror_mode": {
    "name": "ipython",
    "version": 2
   },
   "file_extension": ".py",
   "mimetype": "text/x-python",
   "name": "python",
   "nbconvert_exporter": "python",
   "pygments_lexer": "ipython2",
   "version": "2.7.6"
  }
 },
 "nbformat": 4,
 "nbformat_minor": 5
}
