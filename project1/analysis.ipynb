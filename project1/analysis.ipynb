{
 "cells": [
  {
   "metadata": {
    "ExecuteTime": {
     "end_time": "2024-06-01T10:04:47.289979Z",
     "start_time": "2024-06-01T10:04:46.479998Z"
    }
   },
   "cell_type": "code",
   "source": [
    "from datetime import datetime\n",
    "import pandas as pd\n",
    "import os\n",
    "import dateutil.parser as date_parser\n",
    "import matplotlib.pyplot as plt\n",
    "from typing import Any\n",
    "import seaborn as sns\n",
    "import numpy as np\n",
    "from dateutil.relativedelta import relativedelta\n",
    "from statsmodels.tsa.stattools import adfuller\n",
    "from statsmodels.tsa.seasonal import seasonal_decompose\n",
    "from statsmodels.tsa.arima.model import ARIMA\n",
    "from statsforecast import StatsForecast\n",
    "from statsforecast.models import AutoARIMA, ARIMA\n",
    "from statsforecast.arima import arima_string\n",
    "import itertools"
   ],
   "id": "944766fe62115580",
   "execution_count": 1,
   "outputs": []
  },
  {
   "metadata": {},
   "cell_type": "markdown",
   "source": [
    "## Load timeseries ticker data\n",
    "### There are 3 tickers analysis is based on:\n",
    "- S&P 500\n",
    "- VIX - Volatility index\n",
    "- US Treasury bonds\n",
    "- DJIA - Dow Jones Industrial Average\n",
    "\n",
    "The analysis period is from 2000 to 2024"
   ],
   "id": "b82cc38b42e3964f"
  },
  {
   "cell_type": "code",
   "id": "initial_id",
   "metadata": {
    "collapsed": true,
    "ExecuteTime": {
     "end_time": "2024-05-31T15:03:46.682850Z",
     "start_time": "2024-05-31T15:03:46.493307Z"
    }
   },
   "source": [
    "snp_path = os.path.join(os.getcwd(), 'assets', 's&p500_max.csv')\n",
    "vix_path = os.path.join(os.getcwd(), 'assets', 'vix_max.csv')\n",
    "bonds_path = os.path.join(os.getcwd(), 'assets', 'us_bonds_max.csv')\n",
    "djia_path = os.path.join(os.getcwd(), 'assets', 'djia_max.csv')\n",
    "\n",
    "snp_data = pd.read_csv(snp_path, index_col='date', parse_dates=True)\n",
    "vix_data = pd.read_csv(vix_path, index_col='date', parse_dates=True)\n",
    "bonds_data = pd.read_csv(bonds_path, index_col='date', parse_dates=True)\n",
    "djia_data = pd.read_csv(djia_path, index_col='date', parse_dates=True)\n",
    "\n",
    "start_date = '2000-01-01'\n",
    "end_date = '2024-01-01'\n",
    "\n",
    "snp_data = snp_data.loc[start_date:end_date]\n",
    "# vix_data = vix_data.loc[start_date:end_date]\n",
    "bonds_data = bonds_data.loc[start_date:end_date]\n",
    "djia_data = djia_data.loc[start_date:end_date]\n",
    "\n",
    "# expected business days frequency. Input dataset might have some missing\n",
    "frequency = 'B'\n",
    "full_b_days = pd.date_range(start=snp_data.index.min(), end=snp_data.index.max(), freq=frequency)\n",
    "\n",
    "# common_index = pd.DatetimeIndex(common_index, freq='B')\n",
    "\n",
    "snp_data = snp_data.reindex(full_b_days)\n",
    "vix_data = vix_data.reindex(full_b_days)\n",
    "bonds_data = bonds_data.reindex(full_b_days)\n",
    "djia_data = djia_data.reindex(full_b_days)\n",
    "snp_data['close'] = snp_data['close'].interpolate(method='linear')\n",
    "vix_data['close'] = vix_data['close'].interpolate(method='linear')\n",
    "bonds_data['close'] = bonds_data['close'].interpolate(method='linear')\n",
    "djia_data['close'] = djia_data['close'].interpolate(method='linear')\n",
    "\n",
    "missing_days = full_b_days.difference(snp_data.index)\n",
    "\n",
    "snp_data.to_csv('snp_data_clean.csv')\n",
    "djia_data.to_csv('djia_data_clean.csv')\n",
    "bonds_data.to_csv('bonds_data_clean.csv')\n",
    "vix_data.to_csv('vix_data_clean.csv')\n",
    "\n",
    "assert len(missing_days) == 0"
   ],
   "execution_count": 3,
   "outputs": []
  },
  {
   "metadata": {},
   "cell_type": "markdown",
   "source": "### S&P 500",
   "id": "61fa7acb48b0a8f9"
  },
  {
   "metadata": {
    "ExecuteTime": {
     "end_time": "2024-05-13T10:35:28.370453Z",
     "start_time": "2024-05-13T10:35:27.829749Z"
    }
   },
   "cell_type": "code",
   "source": [
    "snp_plot = snp_data.plot(title='S&P500 2000-2024 Historical', y='close', label='Points', figsize=(12, 8))\n",
    "snp_mean = snp_data['close'].mean()\n",
    "snp_median = snp_data['close'].median()\n",
    "snp_std = snp_data['close'].std()\n",
    "\n",
    "snp_plot.axhline(y=snp_mean, label='Mean', color='r', linestyle='dashed')\n",
    "snp_plot.axhline(y=snp_median, label='Median', color='g', linestyle='dashed')\n",
    "snp_plot.axhline(y=snp_std, label='Standard deviation', color='b', linestyle='dashed')\n",
    "\n",
    "snp_plot.legend()"
   ],
   "id": "a0d7954854ed6fd3",
   "execution_count": 566,
   "outputs": []
  },
  {
   "metadata": {},
   "cell_type": "markdown",
   "source": "### VIX",
   "id": "7420bd505ca09fb0"
  },
  {
   "metadata": {
    "ExecuteTime": {
     "end_time": "2024-05-13T10:35:31.015456Z",
     "start_time": "2024-05-13T10:35:30.311584Z"
    }
   },
   "cell_type": "code",
   "source": [
    "vix_plot = vix_data.plot(title='VIX 2000-2024 Historical', y='close', figsize=(12, 8), label='Volatility')\n",
    "\n",
    "vix_mean = vix_data['close'].mean()\n",
    "vix_median = vix_data['close'].median()\n",
    "vix_std = vix_data['close'].std()\n",
    "\n",
    "vix_plot.axhline(y=vix_mean, label='Mean', color='r', linestyle='dashed')\n",
    "vix_plot.axhline(y=vix_median, label='Median', color='g', linestyle='dashed')\n",
    "vix_plot.axhline(y=vix_std, label='Standard deviation', color='b', linestyle='dashed')\n",
    "\n",
    "vix_plot.legend()"
   ],
   "id": "fc4babad3884f824",
   "execution_count": 567,
   "outputs": []
  },
  {
   "metadata": {},
   "cell_type": "markdown",
   "source": "### US Bonds",
   "id": "8ec99114f1b81f87"
  },
  {
   "metadata": {
    "ExecuteTime": {
     "end_time": "2024-05-13T10:35:33.778646Z",
     "start_time": "2024-05-13T10:35:33.195293Z"
    }
   },
   "cell_type": "code",
   "source": [
    "bonds_plot = bonds_data.plot(title='US Bonds 2000-2024 Historical', y='close',\n",
    "                             label='Percentage Points (APY)', figsize=(12, 8))\n",
    "\n",
    "bonds_mean = bonds_data['close'].mean()\n",
    "bonds_median = bonds_data['close'].median()\n",
    "bonds_std = bonds_data['close'].std()\n",
    "\n",
    "bonds_plot.axhline(y=bonds_mean, label='Mean', color='r', linestyle='dashed')\n",
    "bonds_plot.axhline(y=bonds_median, label='Median', color='g', linestyle='dashed')\n",
    "bonds_plot.axhline(y=bonds_std, label='Standard deviation', color='b', linestyle='dashed')\n",
    "\n",
    "bonds_plot.legend()"
   ],
   "id": "47ad0d1c2743412e",
   "execution_count": 568,
   "outputs": []
  },
  {
   "metadata": {},
   "cell_type": "markdown",
   "source": "### Dow Jones Industrial Average",
   "id": "cd2f058856765114"
  },
  {
   "metadata": {
    "ExecuteTime": {
     "end_time": "2024-05-13T10:35:37.834391Z",
     "start_time": "2024-05-13T10:35:37.212993Z"
    }
   },
   "cell_type": "code",
   "source": [
    "djia_plot = djia_data.plot(title='Dow Jones Industrial Average', y='close',\n",
    "                             label='Points', figsize=(12, 8))\n",
    "\n",
    "djia_mean = djia_data['close'].mean()\n",
    "djia_median = djia_data['close'].median()\n",
    "djia_std = djia_data['close'].std()\n",
    "\n",
    "djia_plot.axhline(y=djia_mean, label='Mean', color='r', linestyle='dashed')\n",
    "djia_plot.axhline(y=djia_median, label='Median', color='g', linestyle='dashed')\n",
    "djia_plot.axhline(y=djia_std, label='Standard deviation', color='b', linestyle='dashed')\n",
    "\n",
    "djia_plot.legend()"
   ],
   "id": "a970d280c7e95db5",
   "execution_count": 569,
   "outputs": []
  },
  {
   "metadata": {},
   "cell_type": "markdown",
   "source": "### Heatmap correlation matrix between S&P, VIX and US Bonds",
   "id": "79d15391a75ed213"
  },
  {
   "metadata": {
    "ExecuteTime": {
     "end_time": "2024-05-13T10:35:40.770164Z",
     "start_time": "2024-05-13T10:35:40.610542Z"
    }
   },
   "cell_type": "code",
   "source": [
    "matrix_df = pd.DataFrame({\n",
    "    'snp': snp_data['close'],\n",
    "    'vix': vix_data['close'],\n",
    "    'bonds': bonds_data['close'],\n",
    "    'djia': djia_data['close']\n",
    "})\n",
    "\n",
    "corr_matrix_df = matrix_df.corr()\n",
    "\n",
    "fig, ax = plt.subplots(figsize=(6, 4))\n",
    "\n",
    "heatmap = sns.heatmap(corr_matrix_df, annot=True, cmap='coolwarm', fmt='.2f', ax=ax)\n",
    "heatmap.set_title('Correlation matrix')"
   ],
   "id": "7facea839b5b2b4c",
   "execution_count": 570,
   "outputs": []
  },
  {
   "metadata": {},
   "cell_type": "markdown",
   "source": "### Simple correlation between between S&P, VIX and US Bonds",
   "id": "4ca062a3b1698551"
  },
  {
   "metadata": {
    "ExecuteTime": {
     "end_time": "2024-05-13T12:53:06.273848Z",
     "start_time": "2024-05-13T12:53:05.806530Z"
    }
   },
   "cell_type": "code",
   "source": [
    "fig, ax = plt.subplots(figsize=(12, 6))\n",
    "\n",
    "snp_norm = (snp_data['close'] - snp_data['close'].min()) / (snp_data['close'].max() - snp_data['close'].min())\n",
    "vix_norm = (vix_data['close'] - vix_data['close'].min()) / (vix_data['close'].max() - vix_data['close'].min())\n",
    "bonds_norm = (bonds_data['close'] - bonds_data['close'].min()) / (bonds_data['close'].max() - bonds_data['close'].min())\n",
    "djia_norm = (djia_data['close'] - djia_data['close'].min()) / (djia_data['close'].max() - djia_data['close'].min())\n",
    "\n",
    "ax.plot(snp_norm.index, snp_norm, color='b', label='S&P')\n",
    "ax.plot(vix_norm.index, vix_norm, color='r', label='VIX')\n",
    "ax.plot(bonds_norm.index, bonds_norm, color='g', label='Bonds')\n",
    "ax.plot(djia_norm.index, djia_norm, color='black', label='DJIA')\n",
    "ax.legend()\n",
    "ax.set_title('Simple correlation')"
   ],
   "id": "21618e92427cc787",
   "execution_count": 604,
   "outputs": []
  },
  {
   "metadata": {},
   "cell_type": "markdown",
   "source": [
    "### Data model synthesis with numpy Gaussian Distribution\n",
    "#### Characteristics used:\n",
    "- Mean\n",
    "- Median\n",
    "- Std"
   ],
   "id": "c22c96c3c1ce80b5"
  },
  {
   "metadata": {
    "ExecuteTime": {
     "end_time": "2024-05-13T10:36:12.277736Z",
     "start_time": "2024-05-13T10:36:11.752721Z"
    }
   },
   "cell_type": "code",
   "source": [
    "snp_synthetic = np.random.normal(loc=snp_mean, scale=snp_std, size=len(snp_data['close']))\n",
    "\n",
    "fig, ax = plt.subplots(figsize=(12, 7))\n",
    "ax.plot(snp_data.index, snp_synthetic, linestyle='--', label='Synthetic')\n",
    "ax.plot(snp_data.index, snp_data['close'], label='Reference')\n",
    "ax.legend()"
   ],
   "id": "4faad797ab624d18",
   "execution_count": 572,
   "outputs": []
  },
  {
   "metadata": {},
   "cell_type": "markdown",
   "source": "### S&P 500 Decomposition",
   "id": "34fff3ea7422260"
  },
  {
   "metadata": {
    "ExecuteTime": {
     "end_time": "2024-05-13T10:36:15.817608Z",
     "start_time": "2024-05-13T10:36:14.430786Z"
    }
   },
   "cell_type": "code",
   "source": [
    "result = seasonal_decompose(snp_data['close'], model='additive', period=365)\n",
    "fig, axs = plt.subplots(nrows=4, figsize=(12, 8))\n",
    "fig.subplots_adjust(hspace=0.5)\n",
    "start_date_comp = start_date\n",
    "end_date_comp = end_date\n",
    "\n",
    "axs[0].plot(snp_data['close'][start_date_comp:end_date_comp], label='Original')\n",
    "axs[0].set_title('Original')\n",
    "axs[1].plot(result.trend[start_date_comp:end_date_comp], label='Trend')\n",
    "axs[1].set_title('Trend')\n",
    "axs[2].plot(result.seasonal[start_date_comp:end_date_comp], label='Seasonal')\n",
    "axs[2].set_title('Seasonal')\n",
    "axs[3].plot(result.resid[start_date_comp:end_date_comp], label='Residuals')\n",
    "axs[3].set_title('Residuals')"
   ],
   "id": "e0677640194c258",
   "execution_count": 573,
   "outputs": []
  },
  {
   "metadata": {},
   "cell_type": "markdown",
   "source": [
    "### Stationary test (Dicker-Fuller)\n",
    "- Null Hypothesis - if true (a = 1), the series is non-stationary\n",
    "- Alternate Hypothesis - if ture, the series is stationary"
   ],
   "id": "dfe69e4542ea71ee"
  },
  {
   "metadata": {
    "ExecuteTime": {
     "end_time": "2024-05-13T10:36:21.674570Z",
     "start_time": "2024-05-13T10:36:19.893169Z"
    }
   },
   "cell_type": "code",
   "source": [
    "snp_rollmean = snp_data['close'].rolling(12).mean()\n",
    "snp_rollstd = snp_data['close'].rolling(12).std()\n",
    "\n",
    "fig, ax = plt.subplots(figsize=(12, 5))\n",
    "ax.plot(snp_data['close'], color='b', label='Original')\n",
    "ax.plot(snp_rollmean, color='r', label='Rolling Mean')\n",
    "ax.plot(snp_rollstd, color='black', label='Rolling Standard Deviation')\n",
    "ax.legend()\n",
    "\n",
    "# Augmented Dicker-Fuller Test\n",
    "adft = adfuller(snp_data['close'], autolag='AIC')\n",
    "print('Test Statistic: ', adft[0], adft[4])\n",
    "# P-value tells us how likely the data would've appeared the way it did if null-hypothesis were true.\n",
    "print('p-value: ', adft[1])\n",
    "print('Lags used: ', adft[2])\n",
    "print('Observations used: ', adft[3])"
   ],
   "id": "7acefce2a380ec13",
   "execution_count": 574,
   "outputs": []
  },
  {
   "metadata": {},
   "cell_type": "markdown",
   "source": "### Data model synthesis with ARIMA (Autoregressive Integrated Moving Average)",
   "id": "85a364410744edcc"
  },
  {
   "metadata": {
    "ExecuteTime": {
     "end_time": "2024-05-13T10:36:35.279227Z",
     "start_time": "2024-05-13T10:36:34.836779Z"
    }
   },
   "cell_type": "code",
   "source": [
    "split_date = date_parser.parse(end_date) - relativedelta(years=1)\n",
    "training_set = snp_data.loc[:split_date]\n",
    "testing_set = snp_data.loc[split_date:]\n",
    "\n",
    "diff_training_set = training_set['close'].diff().diff(365).dropna()\n",
    "# Augmented Dicker-Fuller Test\n",
    "adft = adfuller(diff_training_set, autolag='AIC')\n",
    "# P-value tells us how likely the data would've appeared the way it did if null-hypothesis were true.\n",
    "print('p-value: ', adft[1])\n",
    "\n",
    "training_exogenous_df = pd.DataFrame({\n",
    "    'bonds': bonds_data.loc[:split_date]['close'],\n",
    "    'djia': djia_data.loc[:split_date]['close'],\n",
    "    'vix': vix_data.loc[:split_date]['close'],\n",
    "    'ds': training_set.index,\n",
    "    'unique_id': 1\n",
    "})\n",
    "testing_exogenous_df = pd.DataFrame({\n",
    "    'bonds': bonds_data.loc[split_date:]['close'],\n",
    "    'djia': djia_data.loc[split_date:]['close'],\n",
    "    'vix': vix_data.loc[split_date:]['close'],\n",
    "    'ds': testing_set.index,\n",
    "    'unique_id': 1\n",
    "})\n",
    "training_df = pd.DataFrame({\n",
    "    # Note the diff here. We have to make dataset stationary\n",
    "    'y': training_set['close'],\n",
    "    'bonds': training_exogenous_df['bonds'],\n",
    "    'djia': training_exogenous_df['djia'],\n",
    "    'vix': training_exogenous_df['vix'],\n",
    "    'ds': training_set.index,\n",
    "    'unique_id': 1\n",
    "})\n",
    "testing_df = pd.DataFrame({\n",
    "    'y': testing_set['close'],\n",
    "    'bonds': testing_exogenous_df['bonds'],\n",
    "    'djia': testing_exogenous_df['djia'],\n",
    "    'vix': testing_exogenous_df['vix'],\n",
    "    'ds': testing_set.index,\n",
    "    'unique_id': 1\n",
    "})"
   ],
   "id": "699a5fbcd7bc62e9",
   "execution_count": 575,
   "outputs": []
  },
  {
   "metadata": {
    "ExecuteTime": {
     "end_time": "2024-05-13T11:16:16.568037Z",
     "start_time": "2024-05-13T10:54:26.490809Z"
    }
   },
   "cell_type": "code",
   "source": [
    "arima_model = StatsForecast(\n",
    "    models = [AutoARIMA(season_length=63)],\n",
    "    freq=frequency,\n",
    "    n_jobs=-1\n",
    ")\n",
    "\n",
    "arima_model = arima_model.fit(df=training_df)\n",
    "print(arima_string(arima_model.fitted_[0, 0].model_))\n",
    "\n",
    "steps = len(testing_df['y'])\n",
    "\n",
    "snp_synthetic = arima_model.forecast(h=steps, X_df=testing_exogenous_df, level=[90])"
   ],
   "id": "737d2c0382ebc975",
   "execution_count": 585,
   "outputs": []
  },
  {
   "metadata": {},
   "cell_type": "markdown",
   "source": "### Cumsum, stationary mean prediction (not used)",
   "id": "603f03b9975131ed"
  },
  {
   "metadata": {
    "ExecuteTime": {
     "end_time": "2024-05-13T11:55:32.822734Z",
     "start_time": "2024-05-13T11:55:32.812171Z"
    }
   },
   "cell_type": "code",
   "source": "snp_synthetic",
   "id": "e9b3cfbc33f6fc4a",
   "execution_count": 586,
   "outputs": []
  },
  {
   "metadata": {},
   "cell_type": "code",
   "execution_count": 373,
   "source": [
    "# snp_synthetic_cumsum = pd.Series([training_df.iloc[-1]['close']], pd.Series(snp_synthetic['mean'])).cumsum()\n",
    "\n",
    "# last_s = pd.Series([training_set.iloc[-1]['close']])\n",
    "# mean_s = pd.Series(snp_synthetic['mean'])\n",
    "# snp_synthetic_cumsum = pd.concat([last_s, mean_s]).reset_index(drop=True).cumsum().drop(0)\n",
    "\n",
    "# lo_conf_s = pd.concat([last_s, pd.Series(snp_synthetic['lo-90'])]).reset_index(drop=True).cumsum().drop(0)\n",
    "# hi_conf_s = pd.concat([last_s, pd.Series(snp_synthetic['hi-90'])]).reset_index(drop=True).cumsum().drop(0)"
   ],
   "id": "bdc0847fb048f5ad",
   "outputs": []
  },
  {
   "metadata": {
    "ExecuteTime": {
     "end_time": "2024-05-13T13:39:29.377306Z",
     "start_time": "2024-05-13T13:39:29.027237Z"
    }
   },
   "cell_type": "code",
   "source": [
    "fig, ax = plt.subplots(figsize=(13, 7))\n",
    "ax.set_xlim(date_parser.parse('2022-01-01'), date_parser.parse('2024-01-01'))\n",
    "ax.plot(training_set.index, training_set['close'], label='Previous')\n",
    "ax.plot(testing_set.index, testing_set['close'], color='orange', label='Actual')\n",
    "ax.plot(testing_set.index, snp_synthetic['AutoARIMA'], color='red', label='Prediction')\n",
    "# ax.plot(testing_set.index[:steps], snp_synthetic.iloc[len(snp_synthetic['AutoARIMA']) - steps:]['AutoARIMA'], color='r', label='Predicted')\n",
    "# ax.plot(testing_set.index[:steps], snp_synthetic['mean'], color='r', label='Predicted')\n",
    "# ax.fill_between(testing_set.index[:steps], confidence_intervals.iloc[:, 0], confidence_intervals.iloc[:, 1], color='pink', alpha=0.2, label='Confidence Interval')\n",
    "ax.fill_between(testing_set.index[:steps], snp_synthetic['AutoARIMA-lo-90'], snp_synthetic['AutoARIMA-hi-90'], color='gray', alpha=0.2,\n",
    "                label='Confidence Interval')\n",
    "\n",
    "ax.legend()"
   ],
   "id": "6d52fddfacf17439",
   "execution_count": 606,
   "outputs": []
  },
  {
   "metadata": {},
   "cell_type": "markdown",
   "source": "## Model error evaluation",
   "id": "b86a9f346e5c0a91"
  },
  {
   "metadata": {
    "ExecuteTime": {
     "end_time": "2024-05-13T12:13:22.738415Z",
     "start_time": "2024-05-13T12:13:22.733898Z"
    }
   },
   "cell_type": "code",
   "source": [
    "from sklearn import metrics\n",
    "import numpy as np\n",
    "\n",
    "first_month_split_date = split_date + relativedelta(months=1) \n",
    "\n",
    "first_month_testing_df = testing_df.loc[split_date:first_month_split_date]\n",
    "first_month_prediction = snp_synthetic.iloc[:len(first_month_testing_df)]\n",
    "\n",
    "# Calculate errors\n",
    "print(f'MAPE for entire prediction: {metrics.mean_absolute_percentage_error(testing_df['y'], snp_synthetic['AutoARIMA'])}')\n",
    "print(f'MAPE for the first month: {metrics.mean_absolute_percentage_error(first_month_testing_df['y'], first_month_prediction['AutoARIMA'])}')"
   ],
   "id": "9b6ad68b02f0dc60",
   "execution_count": 602,
   "outputs": []
  }
 ],
 "metadata": {
  "kernelspec": {
   "display_name": "Python 3",
   "language": "python",
   "name": "python3"
  },
  "language_info": {
   "codemirror_mode": {
    "name": "ipython",
    "version": 2
   },
   "file_extension": ".py",
   "mimetype": "text/x-python",
   "name": "python",
   "nbconvert_exporter": "python",
   "pygments_lexer": "ipython2",
   "version": "2.7.6"
  }
 },
 "nbformat": 4,
 "nbformat_minor": 5
}
